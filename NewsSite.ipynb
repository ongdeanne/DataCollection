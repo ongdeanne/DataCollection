{
 "cells": [
  {
   "cell_type": "code",
   "execution_count": 4,
   "id": "professional-basketball",
   "metadata": {
    "tags": []
   },
   "outputs": [],
   "source": [
    "import requests\n",
    "\n",
    "URL = \"https://www.livescience.com/news/archive\"\n",
    "\n",
    "articles_json = []\n",
    "\n",
    "from bs4 import BeautifulSoup\n",
    "\n",
    "page = requests.get(URL)\n",
    "soup = BeautifulSoup(page.content, 'html.parser')\n",
    "\n",
    "article_list = soup.find(id = 'content')\n",
    "article_links = article_list.find_all('a')\n",
    "\n",
    "\n",
    "info_start = 34\n",
    "info_end = 53\n",
    "\n",
    "\n",
    "for a in range(info_start, info_end):\n",
    "    #Set date\n",
    "    if a < 43:\n",
    "        date = 'March 12, 2021'\n",
    "    else:\n",
    "        date = 'March 11, 2021'\n",
    "    \n",
    "    #Article title\n",
    "    title = article_links[a].text.strip()\n",
    "    \n",
    "    #Getting the content\n",
    "    url = article_links[a].get('href')\n",
    "    article = requests.get(url)\n",
    "    article_content = article.content\n",
    "    soup_article = BeautifulSoup(article_content, 'html.parser')\n",
    "    body = soup_article.find_all('div', class_= 'text-copy bodyCopy auto')\n",
    "    x = body[0].find_all('p')\n",
    "\n",
    "    #Unifying the content\n",
    "    list_paragraphs = []\n",
    "    for p in range(0, len(x)):\n",
    "        paragraph = x[p].text.strip()\n",
    "        list_paragraphs.append(paragraph)\n",
    "        full_article = \" \".join(list_paragraphs)\n",
    "        \n",
    "    #Author\n",
    "    author_html = soup_article.find('span', class_= 'no-wrap by-author')\n",
    "    author_text = author_html.text.strip()\n",
    "    author_split = author_text.split(\" - \")\n",
    "    author = author_split[0]\n",
    "\n",
    "    articles_json.append({\n",
    "        \"Date\": date,\n",
    "        \"Title\": title,\n",
    "        \"Full Article\": full_article,\n",
    "        \"Author\": author\n",
    "    })\n",
    "\n",
    "articles_json"
   ]
  },
  {
   "cell_type": "code",
   "execution_count": null,
   "id": "fourth-canvas",
   "metadata": {},
   "outputs": [],
   "source": []
  }
 ],
 "metadata": {
  "kernelspec": {
   "display_name": "Python 3",
   "language": "python",
   "name": "python3"
  },
  "language_info": {
   "codemirror_mode": {
    "name": "ipython",
    "version": 3
   },
   "file_extension": ".py",
   "mimetype": "text/x-python",
   "name": "python",
   "nbconvert_exporter": "python",
   "pygments_lexer": "ipython3",
   "version": "3.9.2"
  }
 },
 "nbformat": 4,
 "nbformat_minor": 5
}
